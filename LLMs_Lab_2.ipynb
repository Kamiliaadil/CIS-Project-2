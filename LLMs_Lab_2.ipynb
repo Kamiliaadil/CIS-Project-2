{
  "nbformat": 4,
  "nbformat_minor": 0,
  "metadata": {
    "colab": {
      "provenance": [],
      "authorship_tag": "ABX9TyO/wBY2plohNXwNHk8adXyH",
      "include_colab_link": true
    },
    "kernelspec": {
      "name": "python3",
      "display_name": "Python 3"
    },
    "language_info": {
      "name": "python"
    }
  },
  "cells": [
    {
      "cell_type": "markdown",
      "metadata": {
        "id": "view-in-github",
        "colab_type": "text"
      },
      "source": [
        "<a href=\"https://colab.research.google.com/github/Kamiliaadil/CIS-Project-2/blob/main/LLMs_Lab_2.ipynb\" target=\"_parent\"><img src=\"https://colab.research.google.com/assets/colab-badge.svg\" alt=\"Open In Colab\"/></a>"
      ]
    },
    {
      "cell_type": "markdown",
      "source": [
        "\"For this lab, I initially wanted to analyze a Google Book by using a Google URL to create the N-gram model. For this, I'm working with the book 'The Googlization of Everything And WHY WE SHOULD WORRY' by Siva Vaidhyanathan.\n",
        "\n",
        "Later, I became curious about using a local file URL to achieve a similar analysis. For this, I've chosen the book 'Data Feminism' by Catherine D'Ignazio and Lauren F. Klein, which I have as a PDF file.\""
      ],
      "metadata": {
        "id": "Hqy5ove7tWIC"
      }
    },
    {
      "cell_type": "code",
      "source": [
        "!pip install PyPDF2"
      ],
      "metadata": {
        "colab": {
          "base_uri": "https://localhost:8080/"
        },
        "id": "N23yJq60tiLQ",
        "outputId": "c3dd6d75-1016-4813-daa5-0d5dde140a51"
      },
      "execution_count": null,
      "outputs": [
        {
          "output_type": "stream",
          "name": "stdout",
          "text": [
            "Collecting PyPDF2\n",
            "  Downloading pypdf2-3.0.1-py3-none-any.whl (232 kB)\n",
            "\u001b[?25l     \u001b[90m━━━━━━━━━━━━━━━━━━━━━━━━━━━━━━━━━━━━━━━━\u001b[0m \u001b[32m0.0/232.6 kB\u001b[0m \u001b[31m?\u001b[0m eta \u001b[36m-:--:--\u001b[0m\r\u001b[2K     \u001b[91m━━━━━━━━━━━━\u001b[0m\u001b[90m╺\u001b[0m\u001b[90m━━━━━━━━━━━━━━━━━━━━━━━━━━━\u001b[0m \u001b[32m71.7/232.6 kB\u001b[0m \u001b[31m2.0 MB/s\u001b[0m eta \u001b[36m0:00:01\u001b[0m\r\u001b[2K     \u001b[90m━━━━━━━━━━━━━━━━━━━━━━━━━━━━━━━━━━━━━━━\u001b[0m \u001b[32m232.6/232.6 kB\u001b[0m \u001b[31m3.3 MB/s\u001b[0m eta \u001b[36m0:00:00\u001b[0m\n",
            "\u001b[?25hInstalling collected packages: PyPDF2\n",
            "Successfully installed PyPDF2-3.0.1\n"
          ]
        }
      ]
    },
    {
      "cell_type": "code",
      "execution_count": null,
      "metadata": {
        "id": "Sn3g70C-ZLQc"
      },
      "outputs": [],
      "source": [
        "import numpy as np\n",
        "import re\n",
        "import nltk\n",
        "from nltk import word_tokenize\n",
        "from nltk import sent_tokenize\n",
        "from nltk.util import bigrams\n",
        "from nltk.lm.preprocessing import padded_everygram_pipeline\n",
        "import requests"
      ]
    },
    {
      "cell_type": "code",
      "source": [
        "# Downloads tokenization data.\n",
        "nltk.download('punkt')"
      ],
      "metadata": {
        "colab": {
          "base_uri": "https://localhost:8080/"
        },
        "id": "q8Rduq7Ed9qA",
        "outputId": "71863144-fcfd-4d5f-be7e-60c553719f06"
      },
      "execution_count": null,
      "outputs": [
        {
          "output_type": "stream",
          "name": "stderr",
          "text": [
            "[nltk_data] Downloading package punkt to /root/nltk_data...\n",
            "[nltk_data]   Package punkt is already up-to-date!\n"
          ]
        },
        {
          "output_type": "execute_result",
          "data": {
            "text/plain": [
              "True"
            ]
          },
          "metadata": {},
          "execution_count": 65
        }
      ]
    },
    {
      "cell_type": "code",
      "source": [
        "# Requests the text content from the specified Google Books URL.\n",
        "r = requests.get(r'https://books.google.com/books?id=LyH6f_qjLwEC&printsec=frontcover&source=gbs_ge_summary_r&cad=0#v=onepage&q&f=false.txt')\n",
        "googlization_of_everything = r.text\n",
        "\n",
        "# first, remove unwanted new line and tab characters from the text\n",
        "for char in [\"\\n\", \"\\r\", \"\\d\", \"\\t\"]:\n",
        "  googlization_of_everything  = googlization_of_everything .replace(char, \" \")\n",
        "\n",
        "# check\n",
        "print(googlization_of_everything [:100])"
      ],
      "metadata": {
        "id": "mEoRPe2CZWnW",
        "colab": {
          "base_uri": "https://localhost:8080/"
        },
        "outputId": "92ed1ee5-18c7-4a7b-ef93-a2e6a91788c4"
      },
      "execution_count": null,
      "outputs": [
        {
          "output_type": "stream",
          "name": "stdout",
          "text": [
            "<!DOCTYPE html><html><head><title>The Googlization of Everything: (And Why We Should Worry) - Siva V\n"
          ]
        }
      ]
    },
    {
      "cell_type": "code",
      "source": [
        "# remove the metadata at the beginning\n",
        "googlization_of_everything  = googlization_of_everything [1000:]"
      ],
      "metadata": {
        "id": "tEE9TqFDqJKn"
      },
      "execution_count": null,
      "outputs": []
    },
    {
      "cell_type": "code",
      "source": [
        "# this is simplified for demonstration\n",
        "def sample_clean_text(text: str):\n",
        "    # lowercase\n",
        "    text = text.lower()\n",
        "\n",
        "    # remove punctuation from text\n",
        "    text = re.sub(r\"[^\\w\\s]\", \"\", text)\n",
        "\n",
        "    # tokenize the text\n",
        "    tokens = nltk.word_tokenize(text)\n",
        "\n",
        "    # return your tokens\n",
        "    return tokens\n",
        "\n",
        "# call the function\n",
        "sample_tokens = sample_clean_text(text =googlization_of_everything )\n",
        "\n",
        "# check\n",
        "print(sample_tokens[:100])\n",
        "\n",
        "\n",
        "\n"
      ],
      "metadata": {
        "colab": {
          "base_uri": "https://localhost:8080/"
        },
        "id": "StCgaZ-FqJG0",
        "outputId": "6d112531-5ea3-44d0-c9c5-bb4165b85c12"
      },
      "execution_count": null,
      "outputs": [
        {
          "output_type": "stream",
          "name": "stdout",
          "text": [
            "['he', 'googlization', 'of', 'everythingmeta', 'propertyogtype', 'contentbookmeta', 'propertyogsite_name', 'contentgoogle', 'booksmeta', 'propertyogimage', 'contenthttpsbooksgooglecombookscontentidlyh6f_qjlwecampprintsecfrontcoverampimg1ampzoom1ampedgecurlampimgtkaflre71olpahjoytmeljsjvoux3thsexxu1moegjmwrdzlhixdjxk0fjhw_owjjcl_zc6sysxch5h3yo_ntgmlrkkqz3zwghyzp3sprkxujn7jftefxu0fb5xvm_keg_43k_q8rih8bnlink', 'relimage_src', 'hrefhttpsbooksgooglecombookscontentidlyh6f_qjlwecampprintsecfrontcoverampimg1ampzoom1ampedgecurlampimgtkaflre71olpahjoytmeljsjvoux3thsexxu1moegjmwrdzlhixdjxk0fjhw_owjjcl_zc6sysxch5h3yo_ntgmlrkkqz3zwghyzp3sprkxujn7jftefxu0fb5xvm_keg_43k_q8rih8bnscriptscriptstylegbarguserfontsize13pxpaddingtop1px', 'importantgbarheight22pxguserpaddingbottom7px', 'importanttextalignrightgbhgbdbordertop1px', 'solid', 'c9d7f1fontsize1pxgbhheight0positionabsolutetop24pxwidth100media', 'allgb1height22pxmarginright5emverticalaligntopgbarfloatleftagb1agb4textdecorationunderline', 'importantagb1agb4color00c', 'importantgbi', 'gb4colordd8e27', 'importantgbf', 'gb4color900', 'important', 'gbar', 'padding3em', '6em', 'importantstyleheadbody', 'classdiv', 'idgbarnobra', 'target_blank', 'classgb1', 'hrefhttpswwwgooglecomsearchtabpwsearcha', 'a', 'target_blank', 'classgb1', 'hrefhttpswwwgooglecomimghphlentabpiimagesa', 'a', 'target_blank', 'classgb1', 'hrefhttpsmapsgooglecommapshlentabplmapsa', 'a', 'target_blank', 'classgb1', 'hrefhttpsplaygooglecomhlentabp8playa', 'a', 'target_blank', 'classgb1', 'hrefhttpswwwyoutubecomtabp1youtubea', 'a', 'target_blank', 'classgb1', 'hrefhttpsnewsgooglecomtabpnnewsa', 'a', 'target_blank', 'classgb1', 'hrefhttpsmailgooglecommailtabpmgmaila', 'a', 'target_blank', 'classgb1', 'hrefhttpsdrivegooglecomtabpodrivea', 'a', 'target_blank', 'classgb1', 'styletextdecorationnone', 'hrefhttpswwwgooglecomintlenaboutproductstabphumoreu', 'raquoanobrdivdiv', 'idguser', 'width100nobrspan', 'idgbn', 'classgbispanspan', 'idgbf', 'classgbfspanspan', 'idgbespana', 'target_top', 'idgb_70', 'hrefhttpswwwgooglecomaccountsloginserviceprintcontinuehttpsbooksgooglecombooks3fid3dlyh6f_qjlwec26printsec3dfrontcover26source3dgbs_ge_summary_r26hl3denhlenecgazacg', 'classgb4sign', 'inanobrdivdiv', 'classgbh', 'styleleft0divdiv', 'classgbh', 'styleright0divdiv', 'rolealert', 'styleposition', 'absolute', 'left', '0', 'right', '0a', 'hrefhttpsbooksgooglecombooksidlyh6f_qjlwecampprintsecfrontcoverampsourcegbs_ge_summary_ramphlenampoutputhtml_text', 'titlescreen', 'reader', 'users', 'click', 'this', 'link', 'for', 'accessible', 'mode']\n"
          ]
        }
      ]
    },
    {
      "cell_type": "code",
      "source": [
        "# create bigrams from the sample tokens\n",
        "my_bigrams = bigrams(sample_tokens)\n",
        "\n",
        "# check\n",
        "list(my_bigrams)[:10]"
      ],
      "metadata": {
        "colab": {
          "base_uri": "https://localhost:8080/"
        },
        "id": "l9pcwfamqJAs",
        "outputId": "d47fce8d-d63a-4607-9a2e-280ad09246af"
      },
      "execution_count": null,
      "outputs": [
        {
          "output_type": "execute_result",
          "data": {
            "text/plain": [
              "[('he', 'googlization'),\n",
              " ('googlization', 'of'),\n",
              " ('of', 'everythingmeta'),\n",
              " ('everythingmeta', 'propertyogtype'),\n",
              " ('propertyogtype', 'contentbookmeta'),\n",
              " ('contentbookmeta', 'propertyogsite_name'),\n",
              " ('propertyogsite_name', 'contentgoogle'),\n",
              " ('contentgoogle', 'booksmeta'),\n",
              " ('booksmeta', 'propertyogimage'),\n",
              " ('propertyogimage',\n",
              "  'contenthttpsbooksgooglecombookscontentidlyh6f_qjlwecampprintsecfrontcoverampimg1ampzoom1ampedgecurlampimgtkaflre71olpahjoytmeljsjvoux3thsexxu1moegjmwrdzlhixdjxk0fjhw_owjjcl_zc6sysxch5h3yo_ntgmlrkkqz3zwghyzp3sprkxujn7jftefxu0fb5xvm_keg_43k_q8rih8bnlink')]"
            ]
          },
          "metadata": {},
          "execution_count": 71
        }
      ]
    },
    {
      "cell_type": "code",
      "source": [
        "# Creating a trigrams model\n",
        "from nltk.util import trigrams\n",
        "\n",
        "# create trigrams from the sample tokens\n",
        "my_trigrams = trigrams(sample_tokens)\n",
        "\n",
        "# check the first 10 trigrams\n",
        "list(my_trigrams)[:8]"
      ],
      "metadata": {
        "colab": {
          "base_uri": "https://localhost:8080/"
        },
        "id": "UxArxoA_upnz",
        "outputId": "77ecb916-8601-4735-a6a7-21f88de2c07e"
      },
      "execution_count": null,
      "outputs": [
        {
          "output_type": "execute_result",
          "data": {
            "text/plain": [
              "[('he', 'googlization', 'of'),\n",
              " ('googlization', 'of', 'everythingmeta'),\n",
              " ('of', 'everythingmeta', 'propertyogtype'),\n",
              " ('everythingmeta', 'propertyogtype', 'contentbookmeta'),\n",
              " ('propertyogtype', 'contentbookmeta', 'propertyogsite_name'),\n",
              " ('contentbookmeta', 'propertyogsite_name', 'contentgoogle'),\n",
              " ('propertyogsite_name', 'contentgoogle', 'booksmeta'),\n",
              " ('contentgoogle', 'booksmeta', 'propertyogimage')]"
            ]
          },
          "metadata": {},
          "execution_count": 84
        }
      ]
    },
    {
      "cell_type": "code",
      "source": [
        "# 2 is for bigrams\n",
        "n = 2\n",
        "#specify the text you want to use\n",
        "text = googlization_of_everything"
      ],
      "metadata": {
        "id": "zFWKOjotqI9l"
      },
      "execution_count": null,
      "outputs": []
    },
    {
      "cell_type": "code",
      "source": [
        "# step 1: tokenize the text into sentences\n",
        "sentences = nltk.sent_tokenize(text)\n",
        "\n",
        "# step 2: tokenize each sentence into words\n",
        "tokenized_sentences = [nltk.word_tokenize(sent) for sent in sentences]\n",
        "\n",
        "# step 3: convert each word to lowercase\n",
        "tokenized_text = [[word.lower() for word in sent] for sent in tokenized_sentences]\n",
        "\n",
        "#notice the sentence breaks and what the first 10 items of the tokenized text\n",
        "print(tokenized_text[0])"
      ],
      "metadata": {
        "colab": {
          "base_uri": "https://localhost:8080/"
        },
        "id": "KNXjrYcTrdQe",
        "outputId": "0810ad70-0e4c-40b6-f648-fb771c2b9442"
      },
      "execution_count": null,
      "outputs": [
        {
          "output_type": "stream",
          "name": "stdout",
          "text": [
            "['he', 'googlization', 'of', 'everything', \"''\", '/', '>', '<', 'meta', 'property=', \"''\", 'og', ':', 'type', \"''\", 'content=', \"''\", 'book', \"''\", '/', '>', '<', 'meta', 'property=', \"''\", 'og', ':', 'site_name', \"''\", 'content=', \"''\", 'google', 'books', \"''\", '/', '>', '<', 'meta', 'property=', \"''\", 'og', ':', 'image', \"''\", 'content=', \"''\", 'https', ':', '//books.google.com/books/content', '?', 'id=lyh6f_qjlwec', '&', 'amp', ';', 'printsec=frontcover', '&', 'amp', ';', 'img=1', '&', 'amp', ';', 'zoom=1', '&', 'amp', ';', 'edge=curl', '&', 'amp', ';', 'imgtk=aflre71olpahjoytmeljsjvoux3thsexxu1moegjmwrdzlhixdjxk0fjhw_owjjcl_zc6sysxch5h3yo_ntgmlrkkqz3zwghyzp3sprkxujn7jftefxu0fb5xvm_keg_43k_q8rih8bn', \"''\", '/', '>', '<', 'link', 'rel=', \"''\", 'image_src', \"''\", 'href=', \"''\", 'https', ':', '//books.google.com/books/content', '?', 'id=lyh6f_qjlwec', '&', 'amp', ';', 'printsec=frontcover', '&', 'amp', ';', 'img=1', '&', 'amp', ';', 'zoom=1', '&', 'amp', ';', 'edge=curl', '&', 'amp', ';', 'imgtk=aflre71olpahjoytmeljsjvoux3thsexxu1moegjmwrdzlhixdjxk0fjhw_owjjcl_zc6sysxch5h3yo_ntgmlrkkqz3zwghyzp3sprkxujn7jftefxu0fb5xvm_keg_43k_q8rih8bn', \"''\", '/', '>', '<', 'script', '>', '<', '/script', '>', '<', 'style', '>', '#', 'gbar', ',', '#', 'guser', '{', 'font-size:13px', ';', 'padding-top:1px', '!', 'important', ';', '}', '#', 'gbar', '{', 'height:22px', '}', '#', 'guser', '{', 'padding-bottom:7px', '!', 'important', ';', 'text-align', ':', 'right', '}', '.gbh', ',', '.gbd', '{', 'border-top:1px', 'solid', '#', 'c9d7f1', ';', 'font-size:1px', '}', '.gbh', '{', 'height:0', ';', 'position', ':', 'absolute', ';', 'top:24px', ';', 'width:100', '%', '}', '@', 'media', 'all', '{', '.gb1', '{', 'height:22px', ';', 'margin-right', ':', '.5em', ';', 'vertical-align', ':', 'top', '}', '#', 'gbar', '{', 'float', ':', 'left', '}', '}', 'a.gb1', ',', 'a.gb4', '{', 'text-decoration', ':', 'underline', '!', 'important', '}', 'a.gb1', ',', 'a.gb4', '{', 'color', ':', '#', '00c', '!', 'important', '}', '.gbi', '.gb4', '{', 'color', ':', '#', 'dd8e27', '!', 'important', '}', '.gbf', '.gb4', '{', 'color', ':', '#', '900', '!', 'important', '}', '#', 'gbar', '{', 'padding', ':', '.3em', '.6em', '!', 'important', ';', '}', '<', '/style', '>', '<', '/head', '>', '<', 'body', 'class=', \"''\", \"''\", '>', '<', 'div', 'id=gbar', '>', '<', 'nobr', '>', '<', 'a', 'target=_blank', 'class=gb1', 'href=', \"''\", 'https', ':', '//www.google.com/search', '?', 'tab=pw', \"''\", '>', 'search', '<', '/a', '>', '<', 'a', 'target=_blank', 'class=gb1', 'href=', \"''\", 'https', ':', '//www.google.com/imghp', '?', 'hl=en', '&', 'tab=pi', \"''\", '>', 'images', '<', '/a', '>', '<', 'a', 'target=_blank', 'class=gb1', 'href=', \"''\", 'https', ':', '//maps.google.com/maps', '?', 'hl=en', '&', 'tab=pl', \"''\", '>', 'maps', '<', '/a', '>', '<', 'a', 'target=_blank', 'class=gb1', 'href=', \"''\", 'https', ':', '//play.google.com/', '?', 'hl=en', '&', 'tab=p8', \"''\", '>', 'play', '<', '/a', '>', '<', 'a', 'target=_blank', 'class=gb1', 'href=', \"''\", 'https', ':', '//www.youtube.com/', '?', 'tab=p1', \"''\", '>', 'youtube', '<', '/a', '>', '<', 'a', 'target=_blank', 'class=gb1', 'href=', \"''\", 'https', ':', '//news.google.com/', '?', 'tab=pn', \"''\", '>', 'news', '<', '/a', '>', '<', 'a', 'target=_blank', 'class=gb1', 'href=', \"''\", 'https', ':', '//mail.google.com/mail/', '?', 'tab=pm', \"''\", '>', 'gmail', '<', '/a', '>', '<', 'a', 'target=_blank', 'class=gb1', 'href=', \"''\", 'https', ':', '//drive.google.com/', '?', 'tab=po', \"''\", '>', 'drive', '<', '/a', '>', '<', 'a', 'target=_blank', 'class=gb1', 'style=', \"''\", 'text-decoration', ':', 'none', \"''\", 'href=', \"''\", 'https', ':', '//www.google.com/intl/en/about/products', '?', 'tab=ph', \"''\", '>', '<', 'u', '>', 'more', '<', '/u', '>', '&', 'raquo', ';', '<', '/a', '>', '<', '/nobr', '>', '<', '/div', '>', '<', 'div', 'id=guser', 'width=100', '%', '>', '<', 'nobr', '>', '<', 'span', 'id=gbn', 'class=gbi', '>', '<', '/span', '>', '<', 'span', 'id=gbf', 'class=gbf', '>', '<', '/span', '>', '<', 'span', 'id=gbe', '>', '<', '/span', '>', '<', 'a', 'target=_top', 'id=gb_70', 'href=', \"''\", 'https', ':', '//www.google.com/accounts/login', '?', 'service=print', '&', 'continue=https', ':', '//books.google.com/books', '%', '3fid', '%', '3dlyh6f_qjlwec', '%', '26printsec', '%', '3dfrontcover', '%', '26source', '%', '3dgbs_ge_summary_r', '%', '26hl', '%', '3den', '&', 'hl=en', '&', 'ec=gazacg', \"''\", 'class=gb4', '>', 'sign', 'in', '<', '/a', '>', '<', '/nobr', '>', '<', '/div', '>', '<', 'div', 'class=gbh', 'style=left:0', '>', '<', '/div', '>', '<', 'div', 'class=gbh', 'style=right:0', '>', '<', '/div', '>', '<', 'div', 'role=', \"''\", 'alert', \"''\", 'style=', \"''\", 'position', ':', 'absolute', ';', 'left', ':', '0', ';', 'right', ':', '0', ';', \"''\", '>', '<', 'a', 'href=', \"''\", 'https', ':', '//books.google.com/books', '?', 'id=lyh6f_qjlwec', '&', 'amp', ';', 'printsec=frontcover', '&', 'amp', ';', 'source=gbs_ge_summary_r', '&', 'amp', ';', 'hl=en', '&', 'amp', ';', 'output=html_text', \"''\", 'title=', \"''\", 'screen', 'reader', 'users', ':', 'click', 'this', 'link', 'for', 'accessible', 'mode', '.']\n"
          ]
        }
      ]
    },
    {
      "cell_type": "code",
      "source": [
        "# notice what the first 10 items are of the vocabulary\n",
        "print(text[:15])"
      ],
      "metadata": {
        "colab": {
          "base_uri": "https://localhost:8080/"
        },
        "id": "rTjZK68hrdK0",
        "outputId": "88b1d3d9-90d0-441e-8ad8-4304c41cc4ff"
      },
      "execution_count": null,
      "outputs": [
        {
          "output_type": "stream",
          "name": "stdout",
          "text": [
            "he Googlization\n"
          ]
        }
      ]
    },
    {
      "cell_type": "code",
      "source": [
        "# we imported this function from nltk\n",
        "train_data, padded_sents = padded_everygram_pipeline(n, tokenized_text)"
      ],
      "metadata": {
        "id": "rlB4_80BrdGQ"
      },
      "execution_count": null,
      "outputs": []
    },
    {
      "cell_type": "code",
      "source": [
        "from nltk.lm import MLE\n",
        "# we imported this function from nltk linear models (lm)\n",
        "# it is for Maximum Likelihood Estimation\n",
        "\n",
        "# MLE is the model we will use\n",
        "lm = MLE(n)"
      ],
      "metadata": {
        "id": "9Ed95JdvsVwp"
      },
      "execution_count": null,
      "outputs": []
    },
    {
      "cell_type": "code",
      "source": [
        "# currently the vocab length is 0: it has no prior knowledge\n",
        "len(lm.vocab)"
      ],
      "metadata": {
        "colab": {
          "base_uri": "https://localhost:8080/"
        },
        "id": "N0gX8gUlttgz",
        "outputId": "dbbfad42-84e5-4986-f7d1-25587cde9893"
      },
      "execution_count": null,
      "outputs": [
        {
          "output_type": "execute_result",
          "data": {
            "text/plain": [
              "0"
            ]
          },
          "metadata": {},
          "execution_count": 90
        }
      ]
    },
    {
      "cell_type": "code",
      "source": [
        "# fit the model\n",
        "# training data is the bigrams and unigrams\n",
        "# the vocab is all the sentence tokens in the corpus\n",
        "\n",
        "lm.fit(train_data, padded_sents)\n",
        "len(lm.vocab)"
      ],
      "metadata": {
        "colab": {
          "base_uri": "https://localhost:8080/"
        },
        "id": "CqzHScj8ttc5",
        "outputId": "856979db-12e1-4fdc-d6a9-a6633e55c769"
      },
      "execution_count": null,
      "outputs": [
        {
          "output_type": "execute_result",
          "data": {
            "text/plain": [
              "1547"
            ]
          },
          "metadata": {},
          "execution_count": 91
        }
      ]
    },
    {
      "cell_type": "code",
      "source": [
        "# inspect the model's vocabulary.\n",
        "# be sure that a sentence you know exists (from tokenized_text) is in the\n",
        "print(lm.vocab.lookup(tokenized_text[0]))"
      ],
      "metadata": {
        "colab": {
          "base_uri": "https://localhost:8080/"
        },
        "id": "x5wqcYt9ttYl",
        "outputId": "92489d7b-1c6a-4df7-ee04-73ebc92570c2"
      },
      "execution_count": null,
      "outputs": [
        {
          "output_type": "stream",
          "name": "stdout",
          "text": [
            "('he', 'googlization', 'of', 'everything', \"''\", '/', '>', '<', 'meta', 'property=', \"''\", 'og', ':', 'type', \"''\", 'content=', \"''\", 'book', \"''\", '/', '>', '<', 'meta', 'property=', \"''\", 'og', ':', 'site_name', \"''\", 'content=', \"''\", 'google', 'books', \"''\", '/', '>', '<', 'meta', 'property=', \"''\", 'og', ':', 'image', \"''\", 'content=', \"''\", 'https', ':', '//books.google.com/books/content', '?', 'id=lyh6f_qjlwec', '&', 'amp', ';', 'printsec=frontcover', '&', 'amp', ';', 'img=1', '&', 'amp', ';', 'zoom=1', '&', 'amp', ';', 'edge=curl', '&', 'amp', ';', 'imgtk=aflre71olpahjoytmeljsjvoux3thsexxu1moegjmwrdzlhixdjxk0fjhw_owjjcl_zc6sysxch5h3yo_ntgmlrkkqz3zwghyzp3sprkxujn7jftefxu0fb5xvm_keg_43k_q8rih8bn', \"''\", '/', '>', '<', 'link', 'rel=', \"''\", 'image_src', \"''\", 'href=', \"''\", 'https', ':', '//books.google.com/books/content', '?', 'id=lyh6f_qjlwec', '&', 'amp', ';', 'printsec=frontcover', '&', 'amp', ';', 'img=1', '&', 'amp', ';', 'zoom=1', '&', 'amp', ';', 'edge=curl', '&', 'amp', ';', 'imgtk=aflre71olpahjoytmeljsjvoux3thsexxu1moegjmwrdzlhixdjxk0fjhw_owjjcl_zc6sysxch5h3yo_ntgmlrkkqz3zwghyzp3sprkxujn7jftefxu0fb5xvm_keg_43k_q8rih8bn', \"''\", '/', '>', '<', 'script', '>', '<', '/script', '>', '<', 'style', '>', '#', 'gbar', ',', '#', 'guser', '{', 'font-size:13px', ';', 'padding-top:1px', '!', 'important', ';', '}', '#', 'gbar', '{', 'height:22px', '}', '#', 'guser', '{', 'padding-bottom:7px', '!', 'important', ';', 'text-align', ':', 'right', '}', '.gbh', ',', '.gbd', '{', 'border-top:1px', 'solid', '#', 'c9d7f1', ';', 'font-size:1px', '}', '.gbh', '{', 'height:0', ';', 'position', ':', 'absolute', ';', 'top:24px', ';', 'width:100', '%', '}', '@', 'media', 'all', '{', '.gb1', '{', 'height:22px', ';', 'margin-right', ':', '.5em', ';', 'vertical-align', ':', 'top', '}', '#', 'gbar', '{', 'float', ':', 'left', '}', '}', 'a.gb1', ',', 'a.gb4', '{', 'text-decoration', ':', 'underline', '!', 'important', '}', 'a.gb1', ',', 'a.gb4', '{', 'color', ':', '#', '00c', '!', 'important', '}', '.gbi', '.gb4', '{', 'color', ':', '#', 'dd8e27', '!', 'important', '}', '.gbf', '.gb4', '{', 'color', ':', '#', '900', '!', 'important', '}', '#', 'gbar', '{', 'padding', ':', '.3em', '.6em', '!', 'important', ';', '}', '<', '/style', '>', '<', '/head', '>', '<', 'body', 'class=', \"''\", \"''\", '>', '<', 'div', 'id=gbar', '>', '<', 'nobr', '>', '<', 'a', 'target=_blank', 'class=gb1', 'href=', \"''\", 'https', ':', '//www.google.com/search', '?', 'tab=pw', \"''\", '>', 'search', '<', '/a', '>', '<', 'a', 'target=_blank', 'class=gb1', 'href=', \"''\", 'https', ':', '//www.google.com/imghp', '?', 'hl=en', '&', 'tab=pi', \"''\", '>', 'images', '<', '/a', '>', '<', 'a', 'target=_blank', 'class=gb1', 'href=', \"''\", 'https', ':', '//maps.google.com/maps', '?', 'hl=en', '&', 'tab=pl', \"''\", '>', 'maps', '<', '/a', '>', '<', 'a', 'target=_blank', 'class=gb1', 'href=', \"''\", 'https', ':', '//play.google.com/', '?', 'hl=en', '&', 'tab=p8', \"''\", '>', 'play', '<', '/a', '>', '<', 'a', 'target=_blank', 'class=gb1', 'href=', \"''\", 'https', ':', '//www.youtube.com/', '?', 'tab=p1', \"''\", '>', 'youtube', '<', '/a', '>', '<', 'a', 'target=_blank', 'class=gb1', 'href=', \"''\", 'https', ':', '//news.google.com/', '?', 'tab=pn', \"''\", '>', 'news', '<', '/a', '>', '<', 'a', 'target=_blank', 'class=gb1', 'href=', \"''\", 'https', ':', '//mail.google.com/mail/', '?', 'tab=pm', \"''\", '>', 'gmail', '<', '/a', '>', '<', 'a', 'target=_blank', 'class=gb1', 'href=', \"''\", 'https', ':', '//drive.google.com/', '?', 'tab=po', \"''\", '>', 'drive', '<', '/a', '>', '<', 'a', 'target=_blank', 'class=gb1', 'style=', \"''\", 'text-decoration', ':', 'none', \"''\", 'href=', \"''\", 'https', ':', '//www.google.com/intl/en/about/products', '?', 'tab=ph', \"''\", '>', '<', 'u', '>', 'more', '<', '/u', '>', '&', 'raquo', ';', '<', '/a', '>', '<', '/nobr', '>', '<', '/div', '>', '<', 'div', 'id=guser', 'width=100', '%', '>', '<', 'nobr', '>', '<', 'span', 'id=gbn', 'class=gbi', '>', '<', '/span', '>', '<', 'span', 'id=gbf', 'class=gbf', '>', '<', '/span', '>', '<', 'span', 'id=gbe', '>', '<', '/span', '>', '<', 'a', 'target=_top', 'id=gb_70', 'href=', \"''\", 'https', ':', '//www.google.com/accounts/login', '?', 'service=print', '&', 'continue=https', ':', '//books.google.com/books', '%', '3fid', '%', '3dlyh6f_qjlwec', '%', '26printsec', '%', '3dfrontcover', '%', '26source', '%', '3dgbs_ge_summary_r', '%', '26hl', '%', '3den', '&', 'hl=en', '&', 'ec=gazacg', \"''\", 'class=gb4', '>', 'sign', 'in', '<', '/a', '>', '<', '/nobr', '>', '<', '/div', '>', '<', 'div', 'class=gbh', 'style=left:0', '>', '<', '/div', '>', '<', 'div', 'class=gbh', 'style=right:0', '>', '<', '/div', '>', '<', 'div', 'role=', \"''\", 'alert', \"''\", 'style=', \"''\", 'position', ':', 'absolute', ';', 'left', ':', '0', ';', 'right', ':', '0', ';', \"''\", '>', '<', 'a', 'href=', \"''\", 'https', ':', '//books.google.com/books', '?', 'id=lyh6f_qjlwec', '&', 'amp', ';', 'printsec=frontcover', '&', 'amp', ';', 'source=gbs_ge_summary_r', '&', 'amp', ';', 'hl=en', '&', 'amp', ';', 'output=html_text', \"''\", 'title=', \"''\", 'screen', 'reader', 'users', ':', 'click', 'this', 'link', 'for', 'accessible', 'mode', '.')\n"
          ]
        }
      ]
    },
    {
      "cell_type": "code",
      "source": [
        "# see what happens when we include a word that is not in the vocab.\n",
        "print(lm.vocab.lookup('googlization of nothing .'.split()))"
      ],
      "metadata": {
        "colab": {
          "base_uri": "https://localhost:8080/"
        },
        "id": "gV7XVZCCuId0",
        "outputId": "bef80640-6c81-4959-d82d-c111665048e7"
      },
      "execution_count": null,
      "outputs": [
        {
          "output_type": "stream",
          "name": "stdout",
          "text": [
            "('googlization', 'of', '<UNK>', '.')\n"
          ]
        }
      ]
    },
    {
      "cell_type": "code",
      "source": [
        "# how many times does daisy appear in the model?\n",
        "print(lm.counts['google'])\n",
        "\n",
        "# what is the probability of daisy appearing?\n",
        "# this is technically the relative frequency of daisy appearing\n",
        "lm.score('google')"
      ],
      "metadata": {
        "colab": {
          "base_uri": "https://localhost:8080/"
        },
        "id": "G4FoGVNBuIXr",
        "outputId": "fec2f6c3-2001-4197-d62a-304b2ab8ec48"
      },
      "execution_count": null,
      "outputs": [
        {
          "output_type": "stream",
          "name": "stdout",
          "text": [
            "12\n"
          ]
        },
        {
          "output_type": "execute_result",
          "data": {
            "text/plain": [
              "0.0011465698452130708"
            ]
          },
          "metadata": {},
          "execution_count": 94
        }
      ]
    },
    {
      "cell_type": "code",
      "source": [
        "# how often does (daisy, and) occur and what is the relative frequency?\n",
        "print(lm.counts[['google']]['with'])\n",
        "lm.score('with', 'google'.split())"
      ],
      "metadata": {
        "colab": {
          "base_uri": "https://localhost:8080/"
        },
        "id": "KCra8IvWvnXr",
        "outputId": "22becc31-0281-4147-c1be-6c70f3fc644b"
      },
      "execution_count": null,
      "outputs": [
        {
          "output_type": "stream",
          "name": "stdout",
          "text": [
            "1\n"
          ]
        },
        {
          "output_type": "execute_result",
          "data": {
            "text/plain": [
              "0.08333333333333333"
            ]
          },
          "metadata": {},
          "execution_count": 95
        }
      ]
    },
    {
      "cell_type": "code",
      "source": [
        "# what is the score of 'UNK'?\n",
        "\n",
        "lm.score(\"<UNK>\")"
      ],
      "metadata": {
        "colab": {
          "base_uri": "https://localhost:8080/"
        },
        "id": "qIdoz7tBvnNk",
        "outputId": "54cd1ecf-d0a3-4b93-de65-129b5e29f074"
      },
      "execution_count": null,
      "outputs": [
        {
          "output_type": "execute_result",
          "data": {
            "text/plain": [
              "0.0"
            ]
          },
          "metadata": {},
          "execution_count": 96
        }
      ]
    },
    {
      "cell_type": "code",
      "source": [
        "# generate a 20 word sentence starting with the word, 'google'\n",
        "\n",
        "print(lm.generate(20, text_seed= 'google', random_seed=30))"
      ],
      "metadata": {
        "colab": {
          "base_uri": "https://localhost:8080/"
        },
        "id": "5eO0ctdJyJme",
        "outputId": "f81031fa-a899-47e7-8420-d43929b9c9e7"
      },
      "execution_count": null,
      "outputs": [
        {
          "output_type": "stream",
          "name": "stdout",
          "text": [
            "[':196', ',', \"''\", 'order', \"''\", ':', \"''\", 'order', \"''\", ':39', ',', '{', '``', 'pid', \"''\", 'title', \"''\", '}', 'a.gb1', ',']\n"
          ]
        }
      ]
    },
    {
      "cell_type": "code",
      "source": [
        "from nltk.tokenize.treebank import TreebankWordDetokenizer\n",
        "\n",
        "detokenize = TreebankWordDetokenizer().detokenize\n",
        "\n",
        "def generate_sent(lm, num_words, text_seed, random_seed=42):\n",
        "    \"\"\"\n",
        "    :param model: An ngram language model from `nltk.lm.model`.\n",
        "    :param num_words: Max no. of words to generate.\n",
        "    :param random_seed: Seed value for random.\n",
        "    \"\"\"\n",
        "    content = []\n",
        "    for token in lm.generate(num_words, text_seed=text_seed, random_seed=random_seed):\n",
        "        if token == '<s>':\n",
        "            continue\n",
        "        if token == '</s>':\n",
        "            break\n",
        "        content.append(token)\n",
        "    return detokenize(content)"
      ],
      "metadata": {
        "id": "7BPJUrH1yJh6"
      },
      "execution_count": null,
      "outputs": []
    },
    {
      "cell_type": "code",
      "source": [
        "# Now generate sentences that look much nicer.\n",
        "generate_sent(lm, 20, text_seed='google', random_seed = 62)"
      ],
      "metadata": {
        "colab": {
          "base_uri": "https://localhost:8080/",
          "height": 35
        },
        "id": "lPBgs68uyJdI",
        "outputId": "f424d506-7e93-4c78-9386-485b71f92857"
      },
      "execution_count": null,
      "outputs": [
        {
          "output_type": "execute_result",
          "data": {
            "text/plain": [
              "'to benefit the globe.'"
            ],
            "application/vnd.google.colaboratory.intrinsic+json": {
              "type": "string"
            }
          },
          "metadata": {},
          "execution_count": 99
        }
      ]
    },
    {
      "cell_type": "markdown",
      "source": [
        "Exploring Local File Analysis: 'Data Feminism' PDF by Catherine D'Ignazio and Lauren F. Klein"
      ],
      "metadata": {
        "id": "p8dl95VfxeWN"
      }
    },
    {
      "cell_type": "code",
      "source": [
        "import PyPDF2\n",
        "\n",
        "# Specify the path to your PDF file on your computer\n",
        "pdf_file_path = '/content/Data Feminism.pdf'\n",
        "\n",
        "# Open the PDF file in read-binary mode\n",
        "with open(pdf_file_path, 'rb') as pdf_file:\n",
        "    pdf_reader = PyPDF2.PdfReader(pdf_file)\n",
        "\n",
        "    # Initialize an empty string to store the extracted text\n",
        "    data_feminism = ''\n",
        "\n",
        "    # Loop through all the pages and extract text\n",
        "    for page in pdf_reader.pages:\n",
        "        data_feminism += page.extract_text()\n",
        "\n",
        "# Remove unwanted new line and tab characters from the text\n",
        "for char in [\"\\n\", \"\\r\", \"\\t\"]:\n",
        "    data_feminism = data_feminism.replace(char, \" \")\n",
        "\n",
        "# Check\n",
        "print(data_feminism[:100])\n"
      ],
      "metadata": {
        "colab": {
          "base_uri": "https://localhost:8080/"
        },
        "id": "03s2qVRisp0N",
        "outputId": "334edbd5-644c-4496-ee2e-aee5555c5724"
      },
      "execution_count": null,
      "outputs": [
        {
          "output_type": "stream",
          "name": "stdout",
          "text": [
            "Data Feminism<strong> Ideas Series Edited by David Weinberger The <strong> Ideas Series explores the\n"
          ]
        }
      ]
    },
    {
      "cell_type": "code",
      "source": [
        "# remove the metadata at the beginning - this is slightly different for each book\n",
        "ata_feminism = data_feminism[2709:]"
      ],
      "metadata": {
        "id": "E2L3wOqsdyLp"
      },
      "execution_count": null,
      "outputs": []
    },
    {
      "cell_type": "code",
      "source": [
        "# this is simplified for demonstration\n",
        "def sample_clean_text(text: str):\n",
        "    # lowercase\n",
        "    text = text.lower()\n",
        "\n",
        "    # remove punctuation from text\n",
        "    text = re.sub(r\"[^\\w\\s]\", \"\", text)\n",
        "\n",
        "    # tokenize the text\n",
        "    tokens = nltk.word_tokenize(text)\n",
        "\n",
        "    # return your tokens\n",
        "    return tokens\n",
        "\n",
        "# call the function\n",
        "sample_tokens = sample_clean_text(text = data_feminism)\n",
        "\n",
        "# check\n",
        "print(sample_tokens[:100])"
      ],
      "metadata": {
        "colab": {
          "base_uri": "https://localhost:8080/"
        },
        "id": "f3felZUsZWgN",
        "outputId": "5cd0093e-3a88-4ea0-caea-3b52de1c55d1"
      },
      "execution_count": null,
      "outputs": [
        {
          "output_type": "stream",
          "name": "stdout",
          "text": [
            "['data', 'feminismstrong', 'ideas', 'series', 'edited', 'by', 'david', 'weinberger', 'the', 'strong', 'ideas', 'series', 'explores', 'the', 'latest', 'ideas', 'about', 'how', 'technology', 'is', 'affecting', 'culture', 'business', 'science', 'and', 'everyday', 'life', 'written', 'for', 'general', 'readers', 'by', 'leading', 'technology', 'thinkers', 'and', 'makers', 'books', 'in', 'this', 'series', 'advance', 'provocative', 'hypotheses', 'about', 'the', 'meaning', 'of', 'new', 'technologies', 'for', 'contemporary', 'society', 'the', 'strong', 'ideas', 'series', 'is', 'published', 'with', 'the', 'generous', 'support', 'of', 'the', 'mit', 'libraries', 'hacking', 'life', 'systematized', 'living', 'and', 'its', 'discontents', 'joseph', 'm', 'reagle', 'jr', 'the', 'smart', 'enough', 'city', 'putting', 'technology', 'in', 'its', 'place', 'to', 'reclaim', 'our', 'urban', 'future', 'ben', 'green', 'sharenthood', 'why', 'we', 'should', 'think', 'before']\n"
          ]
        }
      ]
    },
    {
      "cell_type": "code",
      "source": [
        "# create bigrams from the sample tokens\n",
        "my_bigrams = bigrams(sample_tokens)\n",
        "\n",
        "# check\n",
        "list(my_bigrams)[:10]"
      ],
      "metadata": {
        "colab": {
          "base_uri": "https://localhost:8080/"
        },
        "id": "0_uL7hcyZWcC",
        "outputId": "634da8ee-335e-4305-dbf8-a81bad47911e"
      },
      "execution_count": null,
      "outputs": [
        {
          "output_type": "execute_result",
          "data": {
            "text/plain": [
              "[('data', 'feminismstrong'),\n",
              " ('feminismstrong', 'ideas'),\n",
              " ('ideas', 'series'),\n",
              " ('series', 'edited'),\n",
              " ('edited', 'by'),\n",
              " ('by', 'david'),\n",
              " ('david', 'weinberger'),\n",
              " ('weinberger', 'the'),\n",
              " ('the', 'strong'),\n",
              " ('strong', 'ideas')]"
            ]
          },
          "metadata": {},
          "execution_count": 136
        }
      ]
    },
    {
      "cell_type": "code",
      "source": [
        "# 2 is for bigrams\n",
        "n = 2\n",
        "#specify the text you want to use\n",
        "text = data_feminism"
      ],
      "metadata": {
        "id": "iDnyOxWeZWX5"
      },
      "execution_count": null,
      "outputs": []
    },
    {
      "cell_type": "code",
      "source": [
        "# step 1: tokenize the text into sentences\n",
        "sentences = nltk.sent_tokenize(text)\n",
        "\n",
        "# step 2: tokenize each sentence into words\n",
        "tokenized_sentences = [nltk.word_tokenize(sent) for sent in sentences]\n",
        "\n",
        "# step 3: convert each word to lowercase\n",
        "tokenized_text = [[word.lower() for word in sent] for sent in tokenized_sentences]\n",
        "\n",
        "#notice the sentence breaks and what the first 10 items of the tokenized text\n",
        "print(tokenized_text[0])"
      ],
      "metadata": {
        "colab": {
          "base_uri": "https://localhost:8080/"
        },
        "id": "dsyWTyE6ZWWG",
        "outputId": "ba46cddf-1f04-4b23-d76f-f878ca6922e5"
      },
      "execution_count": null,
      "outputs": [
        {
          "output_type": "stream",
          "name": "stdout",
          "text": [
            "['data', 'feminism', '<', 'strong', '>', 'ideas', 'series', 'edited', 'by', 'david', 'weinberger', 'the', '<', 'strong', '>', 'ideas', 'series', 'explores', 'the', 'latest', 'ideas', 'about', 'how', 'technology', 'is', 'affecting', 'culture', ',', 'business', ',', 'science', ',', 'and', 'everyday', 'life', '.']\n"
          ]
        }
      ]
    },
    {
      "cell_type": "code",
      "source": [
        "# notice what the first 10 items are of the vocabulary\n",
        "print(text[:13])"
      ],
      "metadata": {
        "colab": {
          "base_uri": "https://localhost:8080/"
        },
        "id": "cHa9pXkjZWPX",
        "outputId": "6e00a32a-cfd6-40dd-8203-b4ed18a02bd6"
      },
      "execution_count": null,
      "outputs": [
        {
          "output_type": "stream",
          "name": "stdout",
          "text": [
            "Data Feminism\n"
          ]
        }
      ]
    },
    {
      "cell_type": "code",
      "source": [
        "# we imported this function from nltk\n",
        "train_data, padded_sents = padded_everygram_pipeline(n, tokenized_text)"
      ],
      "metadata": {
        "id": "sM7rcvy_ZWKN"
      },
      "execution_count": null,
      "outputs": []
    },
    {
      "cell_type": "code",
      "source": [
        "from nltk.lm import MLE\n",
        "# we imported this function from nltk linear models (lm)\n",
        "# it is for Maximum Likelihood Estimation\n",
        "\n",
        "# MLE is the model we will use\n",
        "lm = MLE(n)"
      ],
      "metadata": {
        "id": "3L5qpXS0ZWGY"
      },
      "execution_count": null,
      "outputs": []
    },
    {
      "cell_type": "code",
      "source": [
        "# currently the vocab length is 0: it has no prior knowledge\n",
        "len(lm.vocab)"
      ],
      "metadata": {
        "colab": {
          "base_uri": "https://localhost:8080/"
        },
        "id": "H3kNO9oHZWEP",
        "outputId": "cd527ea7-ab14-408e-e10a-7ddb370f4cff"
      },
      "execution_count": null,
      "outputs": [
        {
          "output_type": "execute_result",
          "data": {
            "text/plain": [
              "0"
            ]
          },
          "metadata": {},
          "execution_count": 142
        }
      ]
    },
    {
      "cell_type": "code",
      "source": [
        "# fit the model\n",
        "# training data is the bigrams and unigrams\n",
        "# the vocab is all the sentence tokens in the corpus\n",
        "\n",
        "lm.fit(train_data, padded_sents)\n",
        "len(lm.vocab)"
      ],
      "metadata": {
        "colab": {
          "base_uri": "https://localhost:8080/"
        },
        "id": "q1D5jifxZV-x",
        "outputId": "f32283e5-4cb7-45d7-bb68-c3ff9ecd8a2f"
      },
      "execution_count": null,
      "outputs": [
        {
          "output_type": "execute_result",
          "data": {
            "text/plain": [
              "14266"
            ]
          },
          "metadata": {},
          "execution_count": 143
        }
      ]
    },
    {
      "cell_type": "code",
      "source": [
        "# inspect the model's vocabulary.\n",
        "# be sure that a sentence you know exists (from tokenized_text) is in the\n",
        "print(lm.vocab.lookup(tokenized_text[0]))"
      ],
      "metadata": {
        "colab": {
          "base_uri": "https://localhost:8080/"
        },
        "id": "PSU7PgsGZV9A",
        "outputId": "1372bcf9-8330-4a5d-a926-8e6489263d0a"
      },
      "execution_count": null,
      "outputs": [
        {
          "output_type": "stream",
          "name": "stdout",
          "text": [
            "('data', 'feminism', '<', 'strong', '>', 'ideas', 'series', 'edited', 'by', 'david', 'weinberger', 'the', '<', 'strong', '>', 'ideas', 'series', 'explores', 'the', 'latest', 'ideas', 'about', 'how', 'technology', 'is', 'affecting', 'culture', ',', 'business', ',', 'science', ',', 'and', 'everyday', 'life', '.')\n"
          ]
        }
      ]
    },
    {
      "cell_type": "code",
      "source": [
        "# see what happens when we include a word that is not in the vocab.\n",
        "print(lm.vocab.lookup('data feminism ngrams .'.split()))"
      ],
      "metadata": {
        "colab": {
          "base_uri": "https://localhost:8080/"
        },
        "id": "_BAQtWvcZV0K",
        "outputId": "9e9048e4-4fe7-4b1a-9109-7220e1fa4d49"
      },
      "execution_count": null,
      "outputs": [
        {
          "output_type": "stream",
          "name": "stdout",
          "text": [
            "('data', 'feminism', '<UNK>', '.')\n"
          ]
        }
      ]
    },
    {
      "cell_type": "code",
      "source": [
        "# how many times does daisy appear in the model?\n",
        "print(lm.counts['power'])\n",
        "\n",
        "# what is the probability of daisy appearing?\n",
        "# this is technically the relative frequency of daisy appearing\n",
        "lm.score('power')"
      ],
      "metadata": {
        "colab": {
          "base_uri": "https://localhost:8080/"
        },
        "id": "c9iQkIILZVwk",
        "outputId": "e12458e7-2480-4f33-cdda-876015f1499b"
      },
      "execution_count": null,
      "outputs": [
        {
          "output_type": "stream",
          "name": "stdout",
          "text": [
            "230\n"
          ]
        },
        {
          "output_type": "execute_result",
          "data": {
            "text/plain": [
              "0.0015601576437549603"
            ]
          },
          "metadata": {},
          "execution_count": 146
        }
      ]
    },
    {
      "cell_type": "code",
      "source": [
        "# how often does (daisy, and) occur and what is the relative frequency?\n",
        "print(lm.counts[['power']]['and'])\n",
        "lm.score('and', 'power'.split())"
      ],
      "metadata": {
        "colab": {
          "base_uri": "https://localhost:8080/"
        },
        "id": "s8DaipiCZVtD",
        "outputId": "1a51912a-4624-41fc-c1e6-ce3b25c74c19"
      },
      "execution_count": null,
      "outputs": [
        {
          "output_type": "stream",
          "name": "stdout",
          "text": [
            "27\n"
          ]
        },
        {
          "output_type": "execute_result",
          "data": {
            "text/plain": [
              "0.11739130434782609"
            ]
          },
          "metadata": {},
          "execution_count": 147
        }
      ]
    },
    {
      "cell_type": "code",
      "source": [
        "# what is the score of 'UNK'?\n",
        "\n",
        "lm.score(\"<UNK>\")"
      ],
      "metadata": {
        "colab": {
          "base_uri": "https://localhost:8080/"
        },
        "id": "mWarFN9dgisV",
        "outputId": "ca711cf2-b31f-44f3-e56c-a866bcc52ba1"
      },
      "execution_count": null,
      "outputs": [
        {
          "output_type": "execute_result",
          "data": {
            "text/plain": [
              "0.0"
            ]
          },
          "metadata": {},
          "execution_count": 148
        }
      ]
    },
    {
      "cell_type": "code",
      "source": [
        "# generate a 20 word sentence starting with the word, 'power'\n",
        "\n",
        "print(lm.generate(20, text_seed= 'power', random_seed=42))"
      ],
      "metadata": {
        "colab": {
          "base_uri": "https://localhost:8080/"
        },
        "id": "NJPOPfEmgipB",
        "outputId": "69b930fa-3d65-412d-e9ae-5f6e8e9c3897"
      },
      "execution_count": null,
      "outputs": [
        {
          "output_type": "stream",
          "name": "stdout",
          "text": [
            "['for', 'a', 'feminist', 'data', 'science', 'is', 'to', 'attend', 'culinary', 'school', ',', 'https', ':', '//www.flowjournal.org/2017/11/dicks-dicks-dicks/', ';', 'https', ':', 'inventory', 'press', ')']\n"
          ]
        }
      ]
    },
    {
      "cell_type": "code",
      "source": [
        "from nltk.tokenize.treebank import TreebankWordDetokenizer\n",
        "\n",
        "detokenize = TreebankWordDetokenizer().detokenize\n",
        "\n",
        "def generate_sent(lm, num_words, text_seed, random_seed=42):\n",
        "    \"\"\"\n",
        "    :param model: An ngram language model from `nltk.lm.model`.\n",
        "    :param num_words: Max no. of words to generate.\n",
        "    :param random_seed: Seed value for random.\n",
        "    \"\"\"\n",
        "    content = []\n",
        "    for token in lm.generate(num_words, text_seed=text_seed, random_seed=random_seed):\n",
        "        if token == '<s>':\n",
        "            continue\n",
        "        if token == '</s>':\n",
        "            break\n",
        "        content.append(token)\n",
        "    return detokenize(content)"
      ],
      "metadata": {
        "id": "AW0D3xXjgilP"
      },
      "execution_count": null,
      "outputs": []
    },
    {
      "cell_type": "code",
      "source": [
        "# Now generate sentences that look much nicer.\n",
        "generate_sent(lm, 20, text_seed='power', random_seed = 42)"
      ],
      "metadata": {
        "colab": {
          "base_uri": "https://localhost:8080/",
          "height": 53
        },
        "id": "LzwJmRFmgiiy",
        "outputId": "25d0b875-9963-4bb0-a074-c8cff9b3f664"
      },
      "execution_count": null,
      "outputs": [
        {
          "output_type": "execute_result",
          "data": {
            "text/plain": [
              "'for a feminist data science is to attend culinary school, https: //www.flowjournal.org/2017/11/dicks-dicks-dicks/; https: inventory press)'"
            ],
            "application/vnd.google.colaboratory.intrinsic+json": {
              "type": "string"
            }
          },
          "metadata": {},
          "execution_count": 151
        }
      ]
    },
    {
      "cell_type": "code",
      "source": [
        "generate_sent(lm, 20, text_seed='power', random_seed = 100)"
      ],
      "metadata": {
        "colab": {
          "base_uri": "https://localhost:8080/",
          "height": 35
        },
        "id": "YbCGYGuAgieG",
        "outputId": "5f3bc765-9e1d-4f4d-e584-ac6a7dbc916f"
      },
      "execution_count": null,
      "outputs": [
        {
          "output_type": "execute_result",
          "data": {
            "text/plain": [
              "', for the project or judgments might have also important activists whose work behind making sense.'"
            ],
            "application/vnd.google.colaboratory.intrinsic+json": {
              "type": "string"
            }
          },
          "metadata": {},
          "execution_count": 152
        }
      ]
    },
    {
      "cell_type": "code",
      "source": [
        "generate_sent(lm, 20, text_seed='power', random_seed = 33)"
      ],
      "metadata": {
        "colab": {
          "base_uri": "https://localhost:8080/",
          "height": 53
        },
        "id": "ljT3eP-_giaa",
        "outputId": "7d341d49-017e-428c-ace5-04d74a6b5757"
      },
      "execution_count": null,
      "outputs": [
        {
          "output_type": "execute_result",
          "data": {
            "text/plain": [
              "'for political speeches, objective viewpoints from breast pump not incompatible with only in unjust status of former returned from'"
            ],
            "application/vnd.google.colaboratory.intrinsic+json": {
              "type": "string"
            }
          },
          "metadata": {},
          "execution_count": 155
        }
      ]
    },
    {
      "cell_type": "code",
      "source": [
        "generate_sent(lm, 20, text_seed='power', random_seed = 139)"
      ],
      "metadata": {
        "colab": {
          "base_uri": "https://localhost:8080/",
          "height": 53
        },
        "id": "i0xE8s1pgiWw",
        "outputId": "80875035-5c2b-452a-d1ba-063c35e3c820"
      },
      "execution_count": null,
      "outputs": [
        {
          "output_type": "execute_result",
          "data": {
            "text/plain": [
              "', race and thinking that she terms of placing ourselves and for those external markers on forms is described data'"
            ],
            "application/vnd.google.colaboratory.intrinsic+json": {
              "type": "string"
            }
          },
          "metadata": {},
          "execution_count": 169
        }
      ]
    },
    {
      "cell_type": "code",
      "source": [
        "generate_sent(lm, 20, text_seed='power', random_seed =16)"
      ],
      "metadata": {
        "id": "qL601a9FgiS9",
        "colab": {
          "base_uri": "https://localhost:8080/",
          "height": 35
        },
        "outputId": "f87a72f2-a1bf-43a7-9fec-92be6479d129"
      },
      "execution_count": null,
      "outputs": [
        {
          "output_type": "execute_result",
          "data": {
            "text/plain": [
              "', helps to include google searches cannot).'"
            ],
            "application/vnd.google.colaboratory.intrinsic+json": {
              "type": "string"
            }
          },
          "metadata": {},
          "execution_count": 175
        }
      ]
    },
    {
      "cell_type": "code",
      "source": [
        "generate_sent(lm, 20, text_seed='power', random_seed =13)"
      ],
      "metadata": {
        "colab": {
          "base_uri": "https://localhost:8080/",
          "height": 53
        },
        "id": "R-otlhhw03i8",
        "outputId": "2d587eab-8247-430a-ba60-9cde701dac66"
      },
      "execution_count": null,
      "outputs": [
        {
          "output_type": "execute_result",
          "data": {
            "text/plain": [
              "', performed by the curious journal, amanda meng, in collaboration between native and our ability, 32 percent'"
            ],
            "application/vnd.google.colaboratory.intrinsic+json": {
              "type": "string"
            }
          },
          "metadata": {},
          "execution_count": 174
        }
      ]
    },
    {
      "cell_type": "code",
      "source": [
        "generate_sent(lm, 20, text_seed='power', random_seed =19)"
      ],
      "metadata": {
        "colab": {
          "base_uri": "https://localhost:8080/",
          "height": 35
        },
        "id": "DfMtnLZS1E2A",
        "outputId": "30c0e43f-4504-4569-fb2c-24384fcc09d2"
      },
      "execution_count": null,
      "outputs": [
        {
          "output_type": "execute_result",
          "data": {
            "text/plain": [
              "'for the matrix of its “ fact, and did not buy in gaining the national coverage, a network'"
            ],
            "application/vnd.google.colaboratory.intrinsic+json": {
              "type": "string"
            }
          },
          "metadata": {},
          "execution_count": 177
        }
      ]
    }
  ]
}